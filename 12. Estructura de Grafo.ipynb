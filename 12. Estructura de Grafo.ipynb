{
 "cells": [
  {
   "cell_type": "code",
   "execution_count": 17,
   "metadata": {},
   "outputs": [],
   "source": [
    "class Contenido:\n",
    "    def __init__(self, etiqueta, valor):\n",
    "        self.etiqueta = etiqueta\n",
    "        self.valor = valor\n",
    "        self.herramientas = []\n",
    "        \n",
    "    def ObtenerEtiqueta(self):\n",
    "        return self.etiqueta\n",
    "    \n",
    "    \n",
    "    def PonerValor(self, valor):\n",
    "        self.valor = valor"
   ]
  },
  {
   "cell_type": "code",
   "execution_count": 18,
   "metadata": {},
   "outputs": [],
   "source": [
    "class Cueva:\n",
    "    def __init__(self, contenido):\n",
    "        self.contenido = contenido\n",
    "        self.carreteras = {}\n",
    "        \n",
    "    def AgregarCarretera(self, destino, peso, estado):\n",
    "        actuales = []\n",
    "        if(destino in self.carreteras):\n",
    "            actuales = self.carreteras[destino]\n",
    "        actuales.append({\"peso\":peso, \"estado\": estado})\n",
    "        self.carreteras[destino] = actuales\n",
    "        \n",
    "    def ObtenerContenido(self):\n",
    "        return self.contenido\n",
    "        \n",
    "    def ObtenerCarreteras(self):\n",
    "        return self.carreteras\n",
    "    \n",
    "    def CerrarCarretera(self, destino):\n",
    "        listaCarreteras = self.carreteras[destino]\n",
    "        for c in listaCarreteras:\n",
    "            c[\"estado\"] = False"
   ]
  },
  {
   "cell_type": "code",
   "execution_count": 24,
   "metadata": {},
   "outputs": [],
   "source": [
    "class Grafo:\n",
    "    \n",
    "    def __init__(self):\n",
    "        self.cuevas = {}\n",
    "        \n",
    "    def AgregarCueva(self, etiqueta, valor):\n",
    "        c = Contenido(etiqueta, valor)\n",
    "        v = Cueva(c)\n",
    "        self.cuevas[etiqueta] = v\n",
    "        return v\n",
    "    \n",
    "    def ObtenerCuevas(self, etiqueta):\n",
    "        if etiqueta in self.cuevas:\n",
    "            return self.cuevas[etiqueta]\n",
    "        return None\n",
    "    \n",
    "    def ObtenerCuevas(self):\n",
    "        return self.cuevas\n",
    "    \n",
    "    def ImprimirCaminosDesde(self, origen):\n",
    "        cueva = self.cuevas[origen]\n",
    "        carreteras = cueva.ObtenerCarreteras()\n",
    "        for destino, datos in carreteras.items():\n",
    "            origen = etiquetaCueva\n",
    "            for dic in datos:\n",
    "                peso = dic[\"peso\"]\n",
    "                estado = \"abierta\" if dic[\"estado\"] else \"cerrada\"\n",
    "                print(\"La carretera desde \", origen, \" hacia \", destino, \" tiene un peso de \", peso, \" y se encuentra \", estado)\n",
    "    \n",
    "    "
   ]
  },
  {
   "cell_type": "code",
   "execution_count": 25,
   "metadata": {},
   "outputs": [],
   "source": [
    "etiquetas = {\"A\": 1,\"B\": 2, \"C\": 3, \"D\": 4, \"E\": 5, \"F\": 6}\n",
    "grafo = Grafo()\n",
    "\n",
    "for e, v in etiquetas.items():\n",
    "    grafo.AgregarCueva(e, v)\n",
    "\n",
    "grafo.ObtenerCuevas()[\"A\"].AgregarCarretera(\"B\", 5, True)\n",
    "grafo.ObtenerCuevas()[\"A\"].AgregarCarretera(\"D\", 7, True)\n",
    "grafo.ObtenerCuevas()[\"B\"].AgregarCarretera(\"F\", 10, True)\n",
    "grafo.ObtenerCuevas()[\"B\"].AgregarCarretera(\"E\", 15, True)\n",
    "grafo.ObtenerCuevas()[\"B\"].AgregarCarretera(\"A\", 35, True)\n",
    "grafo.ObtenerCuevas()[\"C\"].AgregarCarretera(\"D\", 18, True)\n",
    "grafo.ObtenerCuevas()[\"D\"].AgregarCarretera(\"B\", 13, True)\n",
    "grafo.ObtenerCuevas()[\"D\"].AgregarCarretera(\"A\", 19, True)\n",
    "grafo.ObtenerCuevas()[\"D\"].AgregarCarretera(\"E\", 2, True)\n",
    "grafo.ObtenerCuevas()[\"E\"].AgregarCarretera(\"D\", 9, True)\n",
    "grafo.ObtenerCuevas()[\"F\"].AgregarCarretera(\"C\", 23, True)\n",
    "grafo.ObtenerCuevas()[\"F\"].AgregarCarretera(\"A\", 13, True)\n",
    "grafo.ObtenerCuevas()[\"F\"].AgregarCarretera(\"A\", 56, True)\n",
    "    \n",
    "#for e, v in grafo.ObtenerVertices().items():\n",
    "#    print(e, \":\", v.ObtenerEtiqueta() )\n"
   ]
  },
  {
   "cell_type": "code",
   "execution_count": 26,
   "metadata": {},
   "outputs": [
    {
     "name": "stdout",
     "output_type": "stream",
     "text": [
      "Vertice  A  tiene enlaces con  B  con valores [{'peso': 5, 'estado': True}]\n",
      "Vertice  A  tiene enlaces con  D  con valores [{'peso': 7, 'estado': True}]\n",
      "Vertice  B  tiene enlaces con  F  con valores [{'peso': 10, 'estado': True}]\n",
      "Vertice  B  tiene enlaces con  E  con valores [{'peso': 15, 'estado': True}]\n",
      "Vertice  B  tiene enlaces con  A  con valores [{'peso': 35, 'estado': True}]\n",
      "Vertice  C  tiene enlaces con  D  con valores [{'peso': 18, 'estado': True}]\n",
      "Vertice  D  tiene enlaces con  B  con valores [{'peso': 13, 'estado': True}]\n",
      "Vertice  D  tiene enlaces con  A  con valores [{'peso': 19, 'estado': True}]\n",
      "Vertice  D  tiene enlaces con  E  con valores [{'peso': 2, 'estado': True}]\n",
      "Vertice  E  tiene enlaces con  D  con valores [{'peso': 9, 'estado': True}]\n",
      "Vertice  F  tiene enlaces con  C  con valores [{'peso': 23, 'estado': True}]\n",
      "Vertice  F  tiene enlaces con  A  con valores [{'peso': 13, 'estado': True}, {'peso': 56, 'estado': True}]\n"
     ]
    }
   ],
   "source": [
    "for e, v in grafo.ObtenerCuevas().items():\n",
    "    for destino, valor in v.ObtenerCarreteras().items():\n",
    "        print(\"Vertice \", e, \" tiene enlaces con \", destino, \" con valores\", valor)"
   ]
  },
  {
   "cell_type": "code",
   "execution_count": 28,
   "metadata": {},
   "outputs": [
    {
     "name": "stdout",
     "output_type": "stream",
     "text": [
      "Ingrese el identificador de la cueva a listar carreterasD\n",
      "La carretera desde  D  hacia  B  tiene un peso de  13  y se encuentra  abierta\n",
      "La carretera desde  D  hacia  A  tiene un peso de  19  y se encuentra  abierta\n",
      "La carretera desde  D  hacia  E  tiene un peso de  2  y se encuentra  abierta\n",
      "Ingrese el identificador de la cueva hacia donde desea bloquear una carreteraA\n",
      "La carretera desde  D  hacia  B  tiene un peso de  13  y se encuentra  abierta\n",
      "La carretera desde  D  hacia  A  tiene un peso de  19  y se encuentra  cerrada\n",
      "La carretera desde  D  hacia  E  tiene un peso de  2  y se encuentra  abierta\n"
     ]
    }
   ],
   "source": [
    "etiquetaCuevaOrigen = input(\"Ingrese el identificador de la cueva a listar carreteras\")\n",
    "grafo.ImprimirCaminosDesde(etiquetaCuevaOrigen)\n",
    "\n",
    "etiquetaCuevaDestino = input(\"Ingrese el identificador de la cueva hacia donde desea bloquear una carretera\")\n",
    "\n",
    "origen = grafo.ObtenerCuevas()[etiquetaCuevaOrigen]\n",
    "origen.CerrarCarretera(etiquetaCuevaDestino);\n",
    "\n",
    "grafo.ImprimirCaminosDesde(etiquetaCuevaOrigen)\n",
    "\n",
    "{\"A\":[{\"G\":{\"peso\": Z, \"estado\": True}}]\n",
    "{\"B\":[{\"A\":{\"peso\": X, \"estado\": True}}, {\"G\":{\"peso\": Z, \"estado\": True}}]\n",
    "\n"
   ]
  },
  {
   "cell_type": "code",
   "execution_count": 6,
   "metadata": {},
   "outputs": [
    {
     "name": "stdout",
     "output_type": "stream",
     "text": [
      "[1]\n",
      "[1, 4]\n"
     ]
    }
   ],
   "source": [
    "d = {}\n",
    "\n",
    "d[\"B\"] = [1]\n",
    "print(d[\"B\"])\n",
    "actual = d[\"B\"]\n",
    "actual.append(4)\n",
    "d[\"B\"] = actual\n",
    "print(d[\"B\"])"
   ]
  },
  {
   "cell_type": "code",
   "execution_count": 7,
   "metadata": {},
   "outputs": [
    {
     "name": "stdout",
     "output_type": "stream",
     "text": [
      "[1, 4]\n"
     ]
    }
   ],
   "source": [
    "print(d[\"B\"])"
   ]
  },
  {
   "cell_type": "code",
   "execution_count": 8,
   "metadata": {},
   "outputs": [
    {
     "data": {
      "text/plain": [
       "{'B': [5, 7], 'C': [3], 'D': [10, 6]}"
      ]
     },
     "execution_count": 8,
     "metadata": {},
     "output_type": "execute_result"
    }
   ],
   "source": [
    "#Enlaces de A\n",
    "\n",
    "{\n",
    "   \"B\":[5, 7],\n",
    "   \"C\":[3],\n",
    "   \"D\":[10, 6]\n",
    "}"
   ]
  },
  {
   "cell_type": "code",
   "execution_count": null,
   "metadata": {},
   "outputs": [],
   "source": []
  }
 ],
 "metadata": {
  "kernelspec": {
   "display_name": "Python 3",
   "language": "python",
   "name": "python3"
  },
  "language_info": {
   "codemirror_mode": {
    "name": "ipython",
    "version": 3
   },
   "file_extension": ".py",
   "mimetype": "text/x-python",
   "name": "python",
   "nbconvert_exporter": "python",
   "pygments_lexer": "ipython3",
   "version": "3.8.5"
  }
 },
 "nbformat": 4,
 "nbformat_minor": 4
}
