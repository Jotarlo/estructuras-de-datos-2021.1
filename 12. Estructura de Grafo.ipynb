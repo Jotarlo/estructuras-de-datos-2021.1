{
 "cells": [
  {
   "cell_type": "code",
   "execution_count": 34,
   "metadata": {},
   "outputs": [],
   "source": [
    "class Vertice:\n",
    "    def __init__(self, etiqueta):\n",
    "        self.etiqueta = etiqueta\n",
    "        self.enlaces = {}\n",
    "        self.valor = None\n",
    "    \n",
    "    def ObtenerEtiqueta(self):\n",
    "        return self.etiqueta\n",
    "    \n",
    "    def PonerValor(self, valor):\n",
    "        self.valor = valor\n",
    "        \n",
    "    def AgregarEnlace(self, destino, peso):\n",
    "        actuales = []\n",
    "        if(destino in self.enlaces):\n",
    "            actuales = self.enlaces[destino]\n",
    "        actuales.append(peso)\n",
    "        self.enlaces[destino] = actuales\n",
    "        \n",
    "    def ObtenerEnlaces(self):\n",
    "        return self.enlaces"
   ]
  },
  {
   "cell_type": "code",
   "execution_count": 35,
   "metadata": {},
   "outputs": [],
   "source": [
    "class Grafo:\n",
    "    \n",
    "    def __init__(self):\n",
    "        self.vertices = {}\n",
    "        \n",
    "    def AgregarVertice(self, etiqueta):\n",
    "        v = Vertice(etiqueta)\n",
    "        self.vertices[etiqueta] = v\n",
    "        return v\n",
    "    \n",
    "    def ObtenerVertice(self, etiqueta):\n",
    "        if etiqueta in self.vertices:\n",
    "            return self.vertices[etiqueta]\n",
    "        return None\n",
    "    \n",
    "    def ObtenerVertices(self):\n",
    "        return self.vertices\n",
    "    "
   ]
  },
  {
   "cell_type": "code",
   "execution_count": 38,
   "metadata": {},
   "outputs": [],
   "source": [
    "etiquetas = [\"A\", \"B\", \"C\", \"D\", \"E\", \"F\"]\n",
    "grafo = Grafo()\n",
    "\n",
    "for e in etiquetas:\n",
    "    grafo.AgregarVertice(e)\n",
    "\n",
    "grafo.ObtenerVertices()[\"A\"].AgregarEnlace(\"B\", 5)\n",
    "grafo.ObtenerVertices()[\"A\"].AgregarEnlace(\"D\", 7)\n",
    "grafo.ObtenerVertices()[\"B\"].AgregarEnlace(\"F\", 10)\n",
    "grafo.ObtenerVertices()[\"B\"].AgregarEnlace(\"E\", 15)\n",
    "grafo.ObtenerVertices()[\"B\"].AgregarEnlace(\"A\", 35)\n",
    "grafo.ObtenerVertices()[\"C\"].AgregarEnlace(\"D\", 18)\n",
    "grafo.ObtenerVertices()[\"D\"].AgregarEnlace(\"B\", 13)\n",
    "grafo.ObtenerVertices()[\"D\"].AgregarEnlace(\"A\", 19)\n",
    "grafo.ObtenerVertices()[\"D\"].AgregarEnlace(\"E\", 2)\n",
    "grafo.ObtenerVertices()[\"E\"].AgregarEnlace(\"D\", 9)\n",
    "grafo.ObtenerVertices()[\"F\"].AgregarEnlace(\"C\", 23)\n",
    "grafo.ObtenerVertices()[\"F\"].AgregarEnlace(\"A\", 13)\n",
    "grafo.ObtenerVertices()[\"F\"].AgregarEnlace(\"A\", 56)\n",
    "    \n",
    "#for e, v in grafo.ObtenerVertices().items():\n",
    "#    print(e, \":\", v.ObtenerEtiqueta() )\n"
   ]
  },
  {
   "cell_type": "code",
   "execution_count": 40,
   "metadata": {},
   "outputs": [
    {
     "name": "stdout",
     "output_type": "stream",
     "text": [
      "Vertice  A  tiene enlaces con  B  con valores [5]\n",
      "Vertice  A  tiene enlaces con  D  con valores [7]\n",
      "Vertice  B  tiene enlaces con  F  con valores [10]\n",
      "Vertice  B  tiene enlaces con  E  con valores [15]\n",
      "Vertice  B  tiene enlaces con  A  con valores [35]\n",
      "Vertice  C  tiene enlaces con  D  con valores [18]\n",
      "Vertice  D  tiene enlaces con  B  con valores [13]\n",
      "Vertice  D  tiene enlaces con  A  con valores [19]\n",
      "Vertice  D  tiene enlaces con  E  con valores [2]\n",
      "Vertice  E  tiene enlaces con  D  con valores [9]\n",
      "Vertice  F  tiene enlaces con  C  con valores [23]\n",
      "Vertice  F  tiene enlaces con  A  con valores [13, 56]\n"
     ]
    }
   ],
   "source": [
    "for e, v in grafo.ObtenerVertices().items():\n",
    "    for destino, valor in v.ObtenerEnlaces().items():\n",
    "        print(\"Vertice \", e, \" tiene enlaces con \", destino, \" con valores\", valor)"
   ]
  },
  {
   "cell_type": "code",
   "execution_count": null,
   "metadata": {},
   "outputs": [],
   "source": [
    "d = {}\n",
    "\n",
    "d[\"B\"] = [1]\n",
    "print(d[\"B\"])\n",
    "actual = d[\"B\"]\n",
    "actual.append(4)\n",
    "d[\"B\"] = actual\n",
    "print(d[\"B\"])"
   ]
  },
  {
   "cell_type": "code",
   "execution_count": 8,
   "metadata": {},
   "outputs": [
    {
     "name": "stdout",
     "output_type": "stream",
     "text": [
      "[1, 4]\n"
     ]
    }
   ],
   "source": [
    "print(d[\"B\"])"
   ]
  },
  {
   "cell_type": "code",
   "execution_count": null,
   "metadata": {},
   "outputs": [],
   "source": [
    "#Enlaces de A\n",
    "\n",
    "{\n",
    "   \"B\":[5, 7],\n",
    "   \"C\":[3],\n",
    "   \"D\":[10, 6]\n",
    "}"
   ]
  }
 ],
 "metadata": {
  "kernelspec": {
   "display_name": "Python 3",
   "language": "python",
   "name": "python3"
  },
  "language_info": {
   "codemirror_mode": {
    "name": "ipython",
    "version": 3
   },
   "file_extension": ".py",
   "mimetype": "text/x-python",
   "name": "python",
   "nbconvert_exporter": "python",
   "pygments_lexer": "ipython3",
   "version": "3.8.5"
  }
 },
 "nbformat": 4,
 "nbformat_minor": 4
}
