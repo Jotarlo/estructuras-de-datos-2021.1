{
 "cells": [
  {
   "cell_type": "code",
   "execution_count": 4,
   "metadata": {
    "scrolled": true
   },
   "outputs": [
    {
     "name": "stdout",
     "output_type": "stream",
     "text": [
      "0-0\n",
      "['0-0', '1-0', '2-0', '2-1', '2-2', '1-2', '0-2', '0-1']\n",
      "0-1\n",
      "0-2\n",
      "1-0\n",
      "1-1\n",
      "1-2\n",
      "2-0\n",
      "2-1\n",
      "2-2\n",
      "Eighth Amount: 1\n"
     ]
    }
   ],
   "source": [
    "global N;\n",
    "mainBoard = [[1,1,1], [1,0,1], [1,1,1]]\n",
    "N = len(mainBoard[0]);\n",
    "global eighthRecords;\n",
    "eighthRecords = [];\n",
    "\n",
    "\n",
    "def isValidEighth(currentEighth):\n",
    "    for e in eighthRecords:\n",
    "        if(sorted(currentEighth) == sorted(e)):\n",
    "            return False;\n",
    "    return True;\n",
    "\n",
    "\n",
    "def getValidEighth(board, row, col, currentArray):\n",
    "    if(len(currentArray) == 8):\n",
    "        #print(currentArray)\n",
    "        if(isValidEighth(currentArray)):\n",
    "            print(currentArray);\n",
    "            eighthRecords.append(currentArray);\n",
    "    else:\n",
    "        currentPosition = (str(row) + \"-\" + str(col));\n",
    "        if not currentPosition in currentArray:\n",
    "            #print(currentPosition);\n",
    "            currentArray.insert(len(currentArray), currentPosition);\n",
    "            \n",
    "            # validate from current position to down\n",
    "            if(isValidCell(board, (row + 1), col)):\n",
    "                getValidEighth(board, (row + 1), col, currentArray[:]);\n",
    "                \n",
    "            # validate from current position to up\n",
    "            if(isValidCell(board, (row - 1), col)):\n",
    "                getValidEighth(board, (row - 1), col, currentArray[:]);\n",
    "                \n",
    "            # validate from current position to the right\n",
    "            if(isValidCell(board, row, (col + 1))):\n",
    "                getValidEighth(board, row, (col + 1), currentArray[:]);\n",
    "                \n",
    "            # validate from current position to the left\n",
    "            if(isValidCell(board, row, (col - 1))):\n",
    "                getValidEighth(board, row, (col - 1), currentArray[:]);\n",
    "\n",
    "def isValidCell(board, row, col):\n",
    "    return True if (row >= 0 and col >= 0 and row < N and col < N) and (board[row][col] == 1) else False;\n",
    "\n",
    "        \n",
    "def processBoard(board):\n",
    "    for i in range(N):\n",
    "        for j in range(N):\n",
    "            print(str(i) + \"-\"+str(j))\n",
    "            if(not isValidCell(mainBoard, i, j)):\n",
    "                continue;\n",
    "            getValidEighth(mainBoard, i, j, []);\n",
    "    print(\"Eighth Amount: \" + str(len(eighthRecords)));\n",
    "    \n",
    "\n",
    "processBoard(mainBoard);\n",
    "#getValidEighth(mainBoard, 0, 0, []);\n",
    "#print(\"Eighth amount: \" + str(len(eighthRecords)));\n"
   ]
  },
  {
   "cell_type": "code",
   "execution_count": 10,
   "metadata": {},
   "outputs": [
    {
     "name": "stdout",
     "output_type": "stream",
     "text": [
      "['0-3', '1-12', '1-13', '12-1']\n"
     ]
    }
   ],
   "source": [
    "array = [\"12-1\", \"1-13\", \"0-3\", \"1-12\"]\n",
    "print(sorted(array))"
   ]
  }
 ],
 "metadata": {
  "kernelspec": {
   "display_name": "Python 3",
   "language": "python",
   "name": "python3"
  },
  "language_info": {
   "codemirror_mode": {
    "name": "ipython",
    "version": 3
   },
   "file_extension": ".py",
   "mimetype": "text/x-python",
   "name": "python",
   "nbconvert_exporter": "python",
   "pygments_lexer": "ipython3",
   "version": "3.8.5"
  }
 },
 "nbformat": 4,
 "nbformat_minor": 2
}
