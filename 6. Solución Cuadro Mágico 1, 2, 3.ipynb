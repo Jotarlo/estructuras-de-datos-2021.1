{
 "cells": [
  {
   "cell_type": "markdown",
   "metadata": {},
   "source": [
    "1. Realizar el desarrollo de la solución del problema del cuadro mágico 1, 2 y 3 siguiendo la estrategia de backtracking recursivo. \n",
    "    \n",
    "    Este problema consiste en una matríz de 3x3, donde se debe incluir los números del 1 al 3. Las condiciones para ubicar los números son las siguientes:\n",
    "\n",
    "    <font color=\"red\">- Cada una de las 3 columnas deben contener los 3 números (1, 2 y 3).</font><br />\n",
    "    <font color=\"red\">- Cada una de las 3 filas deben contener los 3 números(1, 2 y 3).</font><br />\n",
    "    <font color=\"red\">- Un mismo número no debe estar en la misma fila más de una vez.</font><br />\n",
    "    <font color=\"red\">- Un mismo número no debe estar en la misma columna más de una vez.</font><br />\n",
    "    <font color=\"red\">- En las diagonales si se puede llegar a repetir un mismo número más de una vez.</font>\n",
    "\n",
    "    A continuación, se presenta un ejemplo de solución de este problema.\n",
    "\n",
    "\n",
    "        1 - 3 - 2\n",
    "        3 - 2 - 1\n",
    "        2 - 1 - 3"
   ]
  },
  {
   "cell_type": "markdown",
   "metadata": {},
   "source": [
    "Pasos a tener en cuenta para solucionar un problema con Backtracking\n",
    "\n",
    "<ul>\n",
    "    <li>1. Definir la estructura de datos y la estrategia a utilizar.</li>\n",
    "    <li>2. Invocar a la función recursiva (backtracking)</li>\n",
    "    <li>3. Definir la función Recursiva\n",
    "        <ul>\n",
    "            <li> 3.1 Definir la condición de salida</li>\n",
    "            <li> 3.2 Considerar el recorrido de la estructura de datos con base en la estrategia del punto 1.</li>\n",
    "            <li> 3.3 Verificación de las reglas</li>\n",
    "            <li> 3.4 Llamado recursivo </li>\n",
    "        </ul>\n",
    "    </li>\n",
    "</ul>"
   ]
  },
  {
   "cell_type": "code",
   "execution_count": null,
   "metadata": {},
   "outputs": [],
   "source": []
  },
  {
   "cell_type": "markdown",
   "metadata": {},
   "source": [
    "# Paso 1\n",
    "Definir la estructura de datos y la estrategia"
   ]
  },
  {
   "cell_type": "code",
   "execution_count": 41,
   "metadata": {},
   "outputs": [
    {
     "data": {
      "text/plain": [
       "[[0, 0, 0], [0, 0, 0], [0, 0, 0]]"
      ]
     },
     "execution_count": 41,
     "metadata": {},
     "output_type": "execute_result"
    }
   ],
   "source": [
    "# Matriz de 3x3, y la estrategia está clara con el excel.\n",
    "anchoTablero = 3\n",
    "matriz = [[0 for i in range(anchoTablero)] for j in range(anchoTablero)]\n",
    "\n",
    "matriz"
   ]
  },
  {
   "cell_type": "markdown",
   "metadata": {},
   "source": [
    "# Paso 2\n",
    "Definir la función recursiva"
   ]
  },
  {
   "cell_type": "code",
   "execution_count": 43,
   "metadata": {},
   "outputs": [],
   "source": [
    "def EsPosicionValida(fila, col, num, tablero):\n",
    "    for i in range(col):\n",
    "        if(tablero[fila][i] == num):\n",
    "            return False\n",
    "    \n",
    "    for i in range(fila):\n",
    "        if(tablero[i][col] == num):\n",
    "            return False\n",
    "    \n",
    "    return True\n",
    "\n",
    "def ResolverCuadro123(fila, col, tablero):\n",
    "    if col >= anchoTablero:\n",
    "        return True\n",
    "    \n",
    "    #implementar los casos posibles (recorrido del tablero)\n",
    "    for num in range(1, 4, 1):\n",
    "        if(EsPosicionValida(fila, col, num, tablero)):\n",
    "            tablero[fila][col] = num\n",
    "            if(fila == anchoTablero -1):\n",
    "                if(ResolverCuadro123(0, col+1, tablero)):\n",
    "                    return True\n",
    "            else:\n",
    "                if(ResolverCuadro123(fila + 1, col, tablero)):\n",
    "                    return True\n",
    "    \n",
    "    "
   ]
  },
  {
   "cell_type": "code",
   "execution_count": 44,
   "metadata": {},
   "outputs": [
    {
     "name": "stdout",
     "output_type": "stream",
     "text": [
      "1\n",
      "2\n",
      "3\n"
     ]
    }
   ],
   "source": [
    "for num in range(1, 4, 1):\n",
    "    print(num)"
   ]
  },
  {
   "cell_type": "markdown",
   "metadata": {},
   "source": [
    "# Paso 3\n",
    "Invocar a la función recursiva"
   ]
  },
  {
   "cell_type": "code",
   "execution_count": 46,
   "metadata": {},
   "outputs": [
    {
     "name": "stdout",
     "output_type": "stream",
     "text": [
      "[1, 2, 3]\n",
      "[2, 3, 1]\n",
      "[3, 1, 2]\n"
     ]
    }
   ],
   "source": [
    "if(ResolverCuadro123(0, 0, matriz)):\n",
    "    for fila in matriz:\n",
    "        print(fila)"
   ]
  },
  {
   "cell_type": "code",
   "execution_count": null,
   "metadata": {},
   "outputs": [],
   "source": []
  },
  {
   "cell_type": "code",
   "execution_count": null,
   "metadata": {},
   "outputs": [],
   "source": []
  }
 ],
 "metadata": {
  "kernelspec": {
   "display_name": "Python 3",
   "language": "python",
   "name": "python3"
  },
  "language_info": {
   "codemirror_mode": {
    "name": "ipython",
    "version": 3
   },
   "file_extension": ".py",
   "mimetype": "text/x-python",
   "name": "python",
   "nbconvert_exporter": "python",
   "pygments_lexer": "ipython3",
   "version": "3.8.5"
  }
 },
 "nbformat": 4,
 "nbformat_minor": 4
}
