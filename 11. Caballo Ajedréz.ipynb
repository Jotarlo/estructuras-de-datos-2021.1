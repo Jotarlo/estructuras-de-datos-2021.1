{
 "cells": [
  {
   "cell_type": "code",
   "execution_count": null,
   "metadata": {
    "scrolled": true
   },
   "outputs": [],
   "source": [
    "global N;\n",
    "N = 8\n",
    "tableroPrincipal = [[0 for i in range(N)] for j in range(N)]\n",
    "\n",
    "def TableroRecorridoCompletamente(tablero):\n",
    "    for f in range(N):\n",
    "        for c in range(N):\n",
    "            if(tablero[f][c] == 0):\n",
    "                return False\n",
    "    return True\n",
    "\n",
    "def EsPosicionValida(tablero, fila, col):\n",
    "    return True if (fila >= 0 and fila < N and col >= 0 and col < N and tablero[fila][col] == 0) or (TableroRecorridoCompletamente(tablero)) else False\n",
    "\n",
    "def moverCaballo(tablero, fila, col, movimientosActuales):\n",
    "    if(TableroRecorridoCompletamente(tablero)):\n",
    "        for m in movimientosActuales:\n",
    "            print(m)\n",
    "        return True\n",
    "    else:\n",
    "        if EsPosicionValida(tablero, fila, col):\n",
    "            pos = \"El movimiento #\" + str(len(movimientosActuales) + 1) + \" fue a la coordenada: (\" + str(fila) + \", \" + str(col) + \")\"\n",
    "            movimientosActuales.append(pos)\n",
    "            tablero[fila][col] = len(movimientosActuales)\n",
    "            # Mov 1 |_\n",
    "            if(EsPosicionValida(tablero, (fila + 2), col + 1)):\n",
    "                if moverCaballo(tablero, (fila + 2), col + 1, movimientosActuales):\n",
    "                    return True\n",
    "            # Mov 2 _|\n",
    "            if(EsPosicionValida(tablero, (fila + 2), col - 1)):\n",
    "                if moverCaballo(tablero, (fila + 2), col - 1, movimientosActuales):\n",
    "                    return True\n",
    "            # Mov 3 º|\n",
    "            if(EsPosicionValida(tablero, (fila - 2), col + 1)):\n",
    "                if moverCaballo(tablero, (fila - 2), col + 1, movimientosActuales):\n",
    "                    return True\n",
    "            # Mov 4 |º\n",
    "            if(EsPosicionValida(tablero, (fila - 2), col - 1)):\n",
    "                if moverCaballo(tablero, (fila - 2), col - 1, movimientosActuales):\n",
    "                    return True\n",
    "            # Mov 5 .--\n",
    "            if(EsPosicionValida(tablero, (fila + 1), col - 2)):\n",
    "                if moverCaballo(tablero, (fila + 1), col - 2, movimientosActuales):\n",
    "                    return True\n",
    "            # Mov 6 '--\n",
    "            if(EsPosicionValida(tablero, (fila - 1), col - 2)):\n",
    "                if moverCaballo(tablero, (fila - 1), col - 2, movimientosActuales):\n",
    "                    return True\n",
    "            # Mov 7 --'\n",
    "            if(EsPosicionValida(tablero, (fila - 1), col + 2)):\n",
    "                if moverCaballo(tablero, (fila - 1), col + 2, movimientosActuales):\n",
    "                    return True\n",
    "            # Mov 8 --.\n",
    "            if(EsPosicionValida(tablero, (fila + 1), col + 2)):\n",
    "                if moverCaballo(tablero, (fila + 1), col + 2, movimientosActuales):\n",
    "                    return True\n",
    "            tablero[fila][col] = 0\n",
    "            movimientosActuales.pop()\n",
    "        return False\n",
    "        \n",
    "def ProcesarTablero(tablero):\n",
    "    if(moverCaballo(tablero, 0, 0, [])):\n",
    "        print(\"-----------------\")\n",
    "        for fila in tableroPrincipal:\n",
    "            print(fila)\n",
    "        print(\"-----------------\")\n",
    "    else:\n",
    "        print(\"No tiene solución\")\n",
    "    \n",
    "\n",
    "ProcesarTablero(tableroPrincipal);\n",
    "#getValidEighth(mainBoard, 0, 0, []);\n",
    "#print(\"Eighth amount: \" + str(len(eighthRecords)));\n"
   ]
  },
  {
   "cell_type": "code",
   "execution_count": 10,
   "metadata": {},
   "outputs": [
    {
     "name": "stdout",
     "output_type": "stream",
     "text": [
      "['0-3', '1-12', '1-13', '12-1']\n"
     ]
    }
   ],
   "source": [
    "array = [\"12-1\", \"1-13\", \"0-3\", \"1-12\"]\n",
    "print(sorted(array))"
   ]
  }
 ],
 "metadata": {
  "kernelspec": {
   "display_name": "Python 3",
   "language": "python",
   "name": "python3"
  },
  "language_info": {
   "codemirror_mode": {
    "name": "ipython",
    "version": 3
   },
   "file_extension": ".py",
   "mimetype": "text/x-python",
   "name": "python",
   "nbconvert_exporter": "python",
   "pygments_lexer": "ipython3",
   "version": "3.8.5"
  }
 },
 "nbformat": 4,
 "nbformat_minor": 2
}
