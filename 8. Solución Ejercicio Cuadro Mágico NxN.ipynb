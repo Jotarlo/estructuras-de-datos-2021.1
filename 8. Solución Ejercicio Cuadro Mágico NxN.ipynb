{
 "cells": [
  {
   "cell_type": "markdown",
   "metadata": {},
   "source": [
    "1. Desarrollar el problema del cuadro mágico (magic square), el cual consiste en definir una matriz de números de N x N, donde <font color='red'>(N >= 3) y (N % 2 = 1)</font>. Además, la sumatoria de cualquier fila, columna o diagonal siempre dan el mismo resultado.\n",
    "    Para este ejercicio, se calcula el total que debe dar siguiendo la siguiente fórmula:\n",
    "    \n",
    "    <font color='blue'>TotalSuma = (N * (N**2 + 1)) / 2</font>\n",
    "    \n",
    "    A continuación se muestra la solución con backtracking sin recursión"
   ]
  },
  {
   "cell_type": "code",
   "execution_count": 53,
   "metadata": {},
   "outputs": [
    {
     "name": "stdout",
     "output_type": "stream",
     "text": [
      "Ingrese el tamaño del cuadrado (número impar mayor o igual a 3): 5\n"
     ]
    }
   ],
   "source": [
    "N = int(input(\"Ingrese el tamaño del cuadrado (número impar mayor o igual a 3): \"))"
   ]
  },
  {
   "cell_type": "code",
   "execution_count": 54,
   "metadata": {},
   "outputs": [
    {
     "name": "stdout",
     "output_type": "stream",
     "text": [
      "65\n"
     ]
    },
    {
     "data": {
      "text/plain": [
       "[[0, 0, 0, 0, 0],\n",
       " [0, 0, 0, 0, 0],\n",
       " [0, 0, 0, 0, 0],\n",
       " [0, 0, 0, 0, 0],\n",
       " [0, 0, 0, 0, 0]]"
      ]
     },
     "execution_count": 54,
     "metadata": {},
     "output_type": "execute_result"
    }
   ],
   "source": [
    "cuadrado = [[0 for i in range(N)] for j in range(N)]\n",
    "\n",
    "TotalSuma = int((N * (N**2 + 1)) / 2)\n",
    "print(TotalSuma)\n",
    "cuadrado"
   ]
  },
  {
   "cell_type": "code",
   "execution_count": 55,
   "metadata": {},
   "outputs": [
    {
     "name": "stdout",
     "output_type": "stream",
     "text": [
      "Sin solución\n",
      "[7, 9, 15, 19, 0]\n",
      "[8, 10, 11, 22, 0]\n",
      "[13, 14, 17, 20, 0]\n",
      "[24, 21, 18, 12, 0]\n",
      "[25, 23, 16, 5, 0]\n"
     ]
    }
   ],
   "source": [
    "def SolucionarCuadradoNxN(tablero, col, fila):\n",
    "    if(col >= N):\n",
    "        return True\n",
    "    \n",
    "    for num in range(1, (N**2+1), 1):\n",
    "        if(esValorValido(tablero, col, fila, num)):\n",
    "            tablero[fila][col] = num\n",
    "            if(fila == N - 1):\n",
    "                if(SolucionarCuadradoNxN(tablero, col + 1, 0)):\n",
    "                    return True\n",
    "            else:\n",
    "                if(SolucionarCuadradoNxN(tablero, col, fila + 1)):\n",
    "                    return True\n",
    "    return False\n",
    "\n",
    "def esValorValido(tablero, col, fila, num):\n",
    "     return EsNumeroUnico(tablero, col, fila, num) and ValidoEnColumna(tablero, col, fila, num) and ValidoEnFila(tablero, col, fila, num)\n",
    "    \n",
    "def ValidoEnColumna(tablero, col, fila, num):\n",
    "    sumaTemp = 0\n",
    "    if(fila == N-1):\n",
    "        #evaluar diagonales superiores (izquierda y derecha)\n",
    "        for i in range(fila):\n",
    "            sumaTemp += tablero[i][col]\n",
    "        if(sumaTemp + num == TotalSuma):\n",
    "            return True\n",
    "        else:\n",
    "            return False\n",
    "    else:\n",
    "        for i in range(fila):\n",
    "            sumaTemp += tablero[i][col]\n",
    "        if(sumaTemp + num < TotalSuma):\n",
    "            return True\n",
    "        else:\n",
    "            return False\n",
    "\n",
    "        \n",
    "def ValidoEnFila(tablero, col, fila, num):\n",
    "    sumaTemp = 0\n",
    "    if(col == N-1):\n",
    "        #evaluar diagonales izquierdas (superior e inferior)\n",
    "        for i in range(col):\n",
    "            sumaTemp += tablero[fila][i]\n",
    "        if(sumaTemp + num == TotalSuma):\n",
    "            return True\n",
    "        else:\n",
    "            return False\n",
    "    else:\n",
    "        for i in range(col):\n",
    "            sumaTemp += tablero[fila][i]\n",
    "        if(sumaTemp + num < TotalSuma):\n",
    "            return True\n",
    "        else:\n",
    "            return False\n",
    "        \n",
    "def EsNumeroUnico(tablero, col, fila, num):\n",
    "    for fila in tablero:\n",
    "        if num in fila:\n",
    "            return False\n",
    "    return True\n",
    "\n",
    "if(SolucionarCuadradoNxN(cuadrado, 0, 0)):\n",
    "    print(\"Solucionado\")\n",
    "else:\n",
    "    print(\"Sin solución\")\n",
    "\n",
    "for fila in cuadrado:\n",
    "    print(fila)"
   ]
  },
  {
   "cell_type": "code",
   "execution_count": null,
   "metadata": {},
   "outputs": [],
   "source": []
  }
 ],
 "metadata": {
  "kernelspec": {
   "display_name": "Python 3",
   "language": "python",
   "name": "python3"
  },
  "language_info": {
   "codemirror_mode": {
    "name": "ipython",
    "version": 3
   },
   "file_extension": ".py",
   "mimetype": "text/x-python",
   "name": "python",
   "nbconvert_exporter": "python",
   "pygments_lexer": "ipython3",
   "version": "3.8.5"
  }
 },
 "nbformat": 4,
 "nbformat_minor": 4
}
