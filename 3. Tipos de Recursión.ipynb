{
 "cells": [
  {
   "cell_type": "markdown",
   "metadata": {},
   "source": [
    "# Recursión Líneal"
   ]
  },
  {
   "cell_type": "markdown",
   "metadata": {},
   "source": [
    "Recursión líneal no final (Recursión de Pila), cuando se debe realizar una apertura de escenarios, y posteriormente se deben realizar operaciones tras el cierre de cada uno de estos."
   ]
  },
  {
   "cell_type": "code",
   "execution_count": 12,
   "metadata": {},
   "outputs": [
    {
     "name": "stdout",
     "output_type": "stream",
     "text": [
      "Resultado del factorial como ejemplo de líneal no final\n",
      "5040\n"
     ]
    }
   ],
   "source": [
    "# Ejemplo del factorial\n",
    "\n",
    "# 6! => 1 x 2 x 3 x 4 x 5 x 6 = 720\n",
    "\n",
    "def factorial(num):\n",
    "    if(num == 1 or num == 0):\n",
    "        return 1\n",
    "    return num * factorial(num - 1)\n",
    "\n",
    "print(\"Resultado del factorial como ejemplo de líneal no final\")\n",
    "print(factorial(7))"
   ]
  },
  {
   "cell_type": "markdown",
   "metadata": {},
   "source": [
    "Recursión líneal final (Recuersión de Cola)"
   ]
  },
  {
   "cell_type": "code",
   "execution_count": 10,
   "metadata": {},
   "outputs": [],
   "source": [
    "# ejemplo del mínimo común divisor\n",
    "\n",
    "# Revisar el ejemplo del notebook 2, donde se muestran \n",
    "# las operaciones necesarias para la multiplicación a través de sumatorias.\n",
    "\n",
    "\n",
    "#Otro ejemplo es el factorial mediante el cálculo ordenado de menor a mayor\n",
    "\n",
    "def factorialLinealFinal(n, numFact, res):\n",
    "    if(n == numFact):\n",
    "        print(\"El resultado es: \", res)\n",
    "    else:\n",
    "        res = res * (n+1)\n",
    "        factorialLinealFinal(n+1, numFact, res)\n"
   ]
  },
  {
   "cell_type": "code",
   "execution_count": 9,
   "metadata": {},
   "outputs": [
    {
     "name": "stdout",
     "output_type": "stream",
     "text": [
      "El resultado es:  5040\n"
     ]
    }
   ],
   "source": [
    "factorialLinealFinal(1, 7, 1)"
   ]
  },
  {
   "cell_type": "markdown",
   "metadata": {},
   "source": [
    "# Recursión Cruzada o Mútua\n",
    "\n",
    "Cuando se tienen dos funciones, las cuales se hacen llamados entre ellas.\n",
    "    "
   ]
  },
  {
   "cell_type": "code",
   "execution_count": 10,
   "metadata": {},
   "outputs": [
    {
     "name": "stdout",
     "output_type": "stream",
     "text": [
      "1\n"
     ]
    }
   ],
   "source": [
    "# Funciones para conocer si un número es par\n",
    "\n",
    "def esPar(num):\n",
    "    if(num == 0):\n",
    "        return 1\n",
    "    return esImpar(num - 1)\n",
    "\n",
    "def esImpar(num):\n",
    "    if(num == 0):\n",
    "        return 0\n",
    "    return esPar(num-1)\n",
    "\n",
    "print(esPar(8))\n"
   ]
  },
  {
   "cell_type": "markdown",
   "metadata": {},
   "source": [
    "# Recursión Múltiple\n",
    "\n",
    "Cuando se realiza el llamado de la función recursiva n cantidad de veces desde un mismo escenario (n > 1)"
   ]
  },
  {
   "cell_type": "code",
   "execution_count": 18,
   "metadata": {},
   "outputs": [
    {
     "name": "stdout",
     "output_type": "stream",
     "text": [
      "------\n",
      "------\n",
      "------\n",
      "------\n",
      "------\n",
      "------\n",
      "------\n",
      "------\n",
      "------\n",
      "------\n",
      "------\n",
      "------\n",
      "------\n",
      "------\n",
      "------\n",
      "------\n",
      "------\n",
      "------\n",
      "------\n",
      "------\n",
      "------\n",
      "------\n",
      "------\n",
      "------\n",
      "------\n",
      "------\n",
      "------\n",
      "------\n",
      "------\n",
      "------\n",
      "------\n",
      "------\n",
      "------\n",
      "------\n",
      "------\n",
      "------\n",
      "------\n",
      "------\n",
      "------\n",
      "------\n",
      "------\n",
      "------\n",
      "------\n",
      "------\n",
      "------\n",
      "------\n",
      "------\n",
      "------\n",
      "------\n",
      "------\n",
      "------\n",
      "------\n",
      "------\n",
      "------\n",
      "------\n",
      "------\n",
      "------\n",
      "------\n",
      "------\n",
      "------\n",
      "------\n",
      "------\n",
      "------\n",
      "------\n",
      "------\n",
      "------\n",
      "------\n",
      "------\n",
      "------\n",
      "------\n",
      "------\n",
      "------\n",
      "------\n",
      "------\n",
      "------\n",
      "------\n",
      "------\n",
      "------\n",
      "------\n",
      "------\n",
      "------\n",
      "------\n",
      "------\n",
      "------\n",
      "------\n",
      "------\n",
      "------\n",
      "------\n",
      "55\n"
     ]
    }
   ],
   "source": [
    "entorno = 1\n",
    "def fib(num):\n",
    "    if(num == 0 or num == 1):\n",
    "        return num\n",
    "    print(\"------\")\n",
    "    return fib(num-1) + fib(num-2)\n",
    "\n",
    "print(fib(10))"
   ]
  },
  {
   "cell_type": "code",
   "execution_count": 19,
   "metadata": {},
   "outputs": [
    {
     "name": "stdout",
     "output_type": "stream",
     "text": [
      "Ingrese el número a calcular: 10\n",
      "------\n",
      "------\n",
      "------\n",
      "------\n",
      "------\n",
      "------\n",
      "------\n",
      "------\n",
      "------\n",
      "55\n"
     ]
    }
   ],
   "source": [
    "def fibonacci(num, calculados):\n",
    "    if(calculados[num-1] != -1):\n",
    "        return calculados[num-1]\n",
    "    if(num == 0 or num == 1):\n",
    "        calculados[num-1] = num\n",
    "        return num\n",
    "    print(\"------\")\n",
    "    f = fibonacci(num-1, calculados) + fibonacci(num-2, calculados)\n",
    "    calculados[num-1] = f\n",
    "    return f;\n",
    "\n",
    "n = int(input(\"Ingrese el número a calcular: \"))\n",
    "lista = [-1 for x in range(n)]\n",
    "print(fibonacci(n, lista))"
   ]
  },
  {
   "cell_type": "markdown",
   "metadata": {},
   "source": [
    "# Recursión Anidada\n",
    "\n",
    "Cuando se tiene una función recursiva, la cual dentro de sus parámetros recibe el resultado de un cálculo adicional de ella misma."
   ]
  },
  {
   "cell_type": "code",
   "execution_count": 16,
   "metadata": {},
   "outputs": [],
   "source": [
    "def Ackerman(m, n):\n",
    "    if(m == 0):\n",
    "        return n+1\n",
    "    if(m > 0 and n == 0):\n",
    "        return Ackerman(m-1, 1)\n",
    "    return Ackerman(m-1, Ackerman(m, n-1))"
   ]
  },
  {
   "cell_type": "code",
   "execution_count": 20,
   "metadata": {},
   "outputs": [
    {
     "data": {
      "text/plain": [
       "29"
      ]
     },
     "execution_count": 20,
     "metadata": {},
     "output_type": "execute_result"
    }
   ],
   "source": [
    "Ackerman(3, 2)"
   ]
  },
  {
   "cell_type": "code",
   "execution_count": null,
   "metadata": {},
   "outputs": [],
   "source": []
  },
  {
   "cell_type": "code",
   "execution_count": null,
   "metadata": {},
   "outputs": [],
   "source": []
  }
 ],
 "metadata": {
  "kernelspec": {
   "display_name": "Python 3",
   "language": "python",
   "name": "python3"
  },
  "language_info": {
   "codemirror_mode": {
    "name": "ipython",
    "version": 3
   },
   "file_extension": ".py",
   "mimetype": "text/x-python",
   "name": "python",
   "nbconvert_exporter": "python",
   "pygments_lexer": "ipython3",
   "version": "3.8.5"
  }
 },
 "nbformat": 4,
 "nbformat_minor": 2
}
