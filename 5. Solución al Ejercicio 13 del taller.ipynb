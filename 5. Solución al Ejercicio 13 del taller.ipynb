{
 "cells": [
  {
   "cell_type": "markdown",
   "metadata": {},
   "source": [
    "## Dada una cadena de caracteres de longitud N, determinar cuál es la vocal que aparece más veces."
   ]
  },
  {
   "cell_type": "code",
   "execution_count": 6,
   "metadata": {},
   "outputs": [
    {
     "name": "stdout",
     "output_type": "stream",
     "text": [
      "A en Cadena:  56\n",
      "E en Cadena:  67\n",
      "I en Cadena:  33\n",
      "O en Cadena:  41\n",
      "U en Cadena:  21\n"
     ]
    }
   ],
   "source": [
    "texto = \"La Corte Interamericana de Derechos Humanos (Corte IDH) acaba de notificar que las audiencias en las que se debatiría el caso de la periodista Jineth Bedoya contra Colombia, quedarán suspendidas por cuenta de una recusación que presentó el Estado colombiano contra los jueces que evalúan el proceso con excepción de uno, el juez Eduardo Vio Grossi. Entonces, las audiencias, que iniciaron este lunes 15 de marzo y que estaban programadas hasta el próximo miércoles 17, quedaron en vilo. (Lea también: El Estado colombiano se retiró de la audiencia por el caso Jineth Bedoya ante la Corte IDH)\"\n",
    "cadena = texto.lower()\n",
    "print(\"A en Cadena: \", cadena.count(\"a\"))\n",
    "print(\"E en Cadena: \", cadena.count(\"e\"))\n",
    "print(\"I en Cadena: \", cadena.count(\"i\"))\n",
    "print(\"O en Cadena: \", cadena.count(\"o\"))\n",
    "print(\"U en Cadena: \", cadena.count(\"u\"))\n"
   ]
  },
  {
   "cell_type": "code",
   "execution_count": 11,
   "metadata": {},
   "outputs": [
    {
     "data": {
      "text/plain": [
       "[56, 67, 33, 41, 21]"
      ]
     },
     "execution_count": 11,
     "metadata": {},
     "output_type": "execute_result"
    }
   ],
   "source": [
    "lista = [0 for i in range (5)]\n",
    "\n",
    "def revisarRepeticiones(cadena, pos, listaRepeticiones):\n",
    "    if(pos >= len(cadena)):\n",
    "        return listaRepeticiones\n",
    "    \n",
    "    if(cadena[pos] == 'a'):\n",
    "        listaRepeticiones[0] += 1\n",
    "        \n",
    "    if(cadena[pos] == 'e'):\n",
    "        listaRepeticiones[1] += 1\n",
    "        \n",
    "    if(cadena[pos] == 'i'):\n",
    "        listaRepeticiones[2] += 1\n",
    "        \n",
    "    if(cadena[pos] == 'o'):\n",
    "        listaRepeticiones[3] += 1\n",
    "        \n",
    "    if(cadena[pos] == 'u'):\n",
    "        listaRepeticiones[4] += 1\n",
    "    \n",
    "    return revisarRepeticiones(cadena, pos +1, listaRepeticiones)\n",
    "\n",
    "listaFinal = revisarRepeticiones(cadena, 0, lista);\n",
    "\n",
    "listaFinal\n",
    "        "
   ]
  },
  {
   "cell_type": "code",
   "execution_count": 31,
   "metadata": {},
   "outputs": [
    {
     "name": "stdout",
     "output_type": "stream",
     "text": [
      "{'a': 56, 'e': 67, 'i': 33, 'o': 41, 'u': 21}\n",
      "dict_keys(['a', 'e', 'i', 'o', 'u'])\n"
     ]
    },
    {
     "data": {
      "text/plain": [
       "'e'"
      ]
     },
     "execution_count": 31,
     "metadata": {},
     "output_type": "execute_result"
    }
   ],
   "source": [
    "lista = {'a':0, 'e':0, 'i':0, 'o': 0, 'u': 0}\n",
    "\n",
    "def revisarRepeticiones(cadena, pos, listaRepeticiones):\n",
    "    if(pos >= len(cadena)):\n",
    "        return listaRepeticiones\n",
    "    \n",
    "    if(cadena[pos] in listaRepeticiones):\n",
    "        listaRepeticiones[cadena[pos]] += 1\n",
    "    \n",
    "    return revisarRepeticiones(cadena, pos +1, listaRepeticiones)\n",
    "\n",
    "listaFinal = revisarRepeticiones(cadena, 0, lista);\n",
    "\n",
    "print(listaFinal)\n",
    "\n",
    "print(listaFinal.keys())\n",
    "\n",
    "max(listaFinal, key=listaFinal.get)\n",
    "        "
   ]
  },
  {
   "cell_type": "code",
   "execution_count": 45,
   "metadata": {},
   "outputs": [
    {
     "name": "stdout",
     "output_type": "stream",
     "text": [
      "En la key:  a  está el valor:  [1, 2, 3, 4, 5]\n",
      "En la key:  e  está el valor:  {'e1': 123, 'e2': 234}\n",
      "En la key:  i  está el valor:  0\n",
      "En la key:  o  está el valor:  0\n",
      "En la key:  u  está el valor:  0\n",
      "---------------------------\n",
      "En la key:  a  está el valor:  [1, 2, 3, 4, 5]\n",
      "En la key:  e  está el valor:  {'e1': 123, 'e2': 234}\n",
      "En la key:  i  está el valor:  0\n",
      "En la key:  o  está el valor:  0\n",
      "En la key:  u  está el valor:  0\n"
     ]
    }
   ],
   "source": [
    "diccionario = {'a':[1, 2, 3, 4, 5], 'e':{'e1': 123, 'e2': 234}, 'i':0, 'o': 0, 'u': 0}\n",
    "\n",
    "\n",
    "for k in diccionario:\n",
    "    print(\"En la key: \", k, \" está el valor: \", diccionario[k])\n",
    "    \n",
    "    \n",
    "print(\"---------------------------\")\n",
    "    \n",
    "for k, v in diccionario.items():\n",
    "    print(\"En la key: \", k, \" está el valor: \", v)\n",
    "\n"
   ]
  },
  {
   "cell_type": "code",
   "execution_count": null,
   "metadata": {},
   "outputs": [],
   "source": []
  }
 ],
 "metadata": {
  "kernelspec": {
   "display_name": "Python 3",
   "language": "python",
   "name": "python3"
  },
  "language_info": {
   "codemirror_mode": {
    "name": "ipython",
    "version": 3
   },
   "file_extension": ".py",
   "mimetype": "text/x-python",
   "name": "python",
   "nbconvert_exporter": "python",
   "pygments_lexer": "ipython3",
   "version": "3.8.5"
  }
 },
 "nbformat": 4,
 "nbformat_minor": 4
}
