{
 "cells": [
  {
   "cell_type": "markdown",
   "metadata": {},
   "source": [
    "## Definición de la clase Nodo\n",
    "\n",
    "El nodo como componente principal del árbol tendrá elementos definidos y operaciones fundamentales para los recorridos y funcionalidades del propio árbol."
   ]
  },
  {
   "cell_type": "code",
   "execution_count": 13,
   "metadata": {},
   "outputs": [],
   "source": [
    "class Nodo:\n",
    "    #Constructor: (llave, valor, hijoIzquierdo, hijoDerecho, padre)\n",
    "    def __init__(self, llave, valor, hijoIzquierdo = None, hijoDerecho = None, padre = None):\n",
    "        self.llave = llave\n",
    "        self.valor = valor\n",
    "        self.hijoIzquierdo = hijoIzquierdo\n",
    "        self.hijoDerecho = hijoDerecho\n",
    "        self.padre = padre\n",
    "        \n",
    "    #Validar sí el nodo tiene hijo izquierdo\n",
    "    def TieneHijoIzquierdo(self):\n",
    "        return self.hijoIzquierdo\n",
    "        \n",
    "    #Retornar el nodo del hijo izquierdo\n",
    "    def ObtenerHijoIzquierdo(self):\n",
    "        return self.hijoIzquierdo\n",
    "        \n",
    "    #Asignar el nodo del hijo izquierdo\n",
    "    def PonerHijoIzquierdo(self, hijo):\n",
    "        self.hijoIzquierdo = hijo\n",
    "    \n",
    "    #Validar sí el nodo tiene hijo derecho\n",
    "    def TieneHijoDerecho(self):\n",
    "        return self.hijoDerecho\n",
    "    \n",
    "    #Retornar el nodo del hijo derecho\n",
    "    def ObtenerHijoDerecho(self):\n",
    "        return self.hijoDerecho\n",
    "        \n",
    "    #Asignar el nodo del hijo derecho\n",
    "    def PonerHijoDerecho(self, hijo):\n",
    "        self.hijoDerecho = hijo\n",
    "    \n",
    "    #Validar sí el nodo es raíz\n",
    "    def EsNodoRaiz(self):\n",
    "        return not self.padre\n",
    "    \n",
    "    #Validar sí el nodo es hoja\n",
    "    def EsNodoHoja(self):\n",
    "        return not (self.hijoIzquierdo or self.hijoDerecho)\n",
    "    \n",
    "    \n",
    "    "
   ]
  },
  {
   "cell_type": "markdown",
   "metadata": {},
   "source": [
    "## Clase ArbolBinario\n",
    "La clase ArbolBinario hace uso de los nodos para construir su estructura y realizar las funciones propias del árbol."
   ]
  },
  {
   "cell_type": "code",
   "execution_count": 14,
   "metadata": {},
   "outputs": [],
   "source": [
    "class ArbolBinario:\n",
    "    #Constructor ([listaNodosIniciales], [raiz])\n",
    "    def __init__(self):\n",
    "        self.raiz = None\n",
    "        self.peso = 0\n",
    "        \n",
    "    def ObtenerPeso(self):\n",
    "        return self.peso\n",
    "    \n",
    "    def AgregarNodo(self, llave, valor):\n",
    "        if self.raiz:\n",
    "            #agregar nodo nuevo al árbol\n",
    "            self._AgregarNodo(llave, valor, self.raiz)\n",
    "        else:\n",
    "            # agregar el nuevo nodo como raíz\n",
    "            self.raiz = Nodo(llave, valor)\n",
    "            print(\"El nodo \", llave, \" se ha agregado.\")\n",
    "            \n",
    "    def _AgregarNodo(self, llave, valor, nodo):\n",
    "        #verificar sí es menor o mayor para ir por la izq o derecha respectivamente\n",
    "        if(valor < nodo.valor):\n",
    "            if(nodo.TieneHijoIzquierdo()):\n",
    "                # se llama recursivamente al hijo implicado\n",
    "                self._AgregarNodo(llave, valor, nodo.ObtenerHijoIzquierdo())\n",
    "            else:\n",
    "                # se crea un nuevo nodo y se asigna como hijo\n",
    "                nuevoNodo = Nodo(llave, valor)\n",
    "                nodo.PonerHijoIzquierdo(nuevoNodo)\n",
    "                print(\"Se ha agregado como hijo izquierdo de \", nodo.llave, \" a \", nuevoNodo.llave)\n",
    "        else:\n",
    "            if(nodo.TieneHijoDerecho()):\n",
    "                # se llama recursivamente al hijo implicado\n",
    "                self._AgregarNodo(llave, valor, nodo.ObtenerHijoDerecho())\n",
    "            else:\n",
    "                # se crea un nuevo nodo y se asigna como hijo\n",
    "                nuevoNodo = Nodo(llave, valor)\n",
    "                nodo.PonerHijoDerecho(nuevoNodo)\n",
    "                print(\"Se ha agregado como hijo derecho de \", nodo.llave, \" a \", nuevoNodo.llave)"
   ]
  },
  {
   "cell_type": "markdown",
   "metadata": {},
   "source": [
    "### Construcción e inserción en un árbol binario de búsqueda\n",
    "Se agregan nodos y las clases hacen su trabajo"
   ]
  },
  {
   "cell_type": "code",
   "execution_count": 15,
   "metadata": {},
   "outputs": [
    {
     "name": "stdout",
     "output_type": "stream",
     "text": [
      "El nodo  A  se ha agregado.\n",
      "Se ha agregado como hijo izquierdo de  A  a  B\n",
      "Se ha agregado como hijo derecho de  A  a  C\n",
      "Se ha agregado como hijo izquierdo de  B  a  D\n",
      "Se ha agregado como hijo izquierdo de  C  a  E\n",
      "Se ha agregado como hijo izquierdo de  D  a  F\n",
      "Se ha agregado como hijo derecho de  D  a  G\n",
      "Se ha agregado como hijo izquierdo de  E  a  H\n",
      "Se ha agregado como hijo derecho de  E  a  I\n",
      "Se ha agregado como hijo derecho de  C  a  J\n"
     ]
    }
   ],
   "source": [
    "abb = ArbolBinario()\n",
    "abb.AgregarNodo(\"A\", 50)\n",
    "abb.AgregarNodo(\"B\", 23)\n",
    "abb.AgregarNodo(\"C\", 78)\n",
    "abb.AgregarNodo(\"D\", 7)\n",
    "abb.AgregarNodo(\"E\", 62)\n",
    "abb.AgregarNodo(\"F\", 4)\n",
    "abb.AgregarNodo(\"G\", 19)\n",
    "abb.AgregarNodo(\"H\", 58)\n",
    "abb.AgregarNodo(\"I\", 71)\n",
    "abb.AgregarNodo(\"J\", 101)"
   ]
  },
  {
   "cell_type": "markdown",
   "metadata": {},
   "source": [
    "### Recorridos en Profundidad\n",
    "\n",
    "pre-order, in-order y post-order"
   ]
  },
  {
   "cell_type": "code",
   "execution_count": null,
   "metadata": {},
   "outputs": [],
   "source": []
  }
 ],
 "metadata": {
  "kernelspec": {
   "display_name": "Python 3",
   "language": "python",
   "name": "python3"
  },
  "language_info": {
   "codemirror_mode": {
    "name": "ipython",
    "version": 3
   },
   "file_extension": ".py",
   "mimetype": "text/x-python",
   "name": "python",
   "nbconvert_exporter": "python",
   "pygments_lexer": "ipython3",
   "version": "3.8.5"
  }
 },
 "nbformat": 4,
 "nbformat_minor": 4
}
