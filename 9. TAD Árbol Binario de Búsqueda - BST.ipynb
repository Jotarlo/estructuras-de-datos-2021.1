{
 "cells": [
  {
   "cell_type": "markdown",
   "metadata": {},
   "source": [
    "## Definición de la clase Nodo\n",
    "\n",
    "El nodo como componente principal del árbol tendrá elementos definidos y operaciones fundamentales para los recorridos y funcionalidades del propio árbol."
   ]
  },
  {
   "cell_type": "code",
   "execution_count": 1,
   "metadata": {},
   "outputs": [],
   "source": [
    "class Nodo:\n",
    "    #Constructor: (llave, valor, hijoIzquierdo, hijoDerecho, padre)\n",
    "    def __init__(self, llave, valor, nivel, padre = None, hijoIzquierdo = None, hijoDerecho = None):\n",
    "        self.llave = llave\n",
    "        self.valor = valor\n",
    "        self.nivel = nivel\n",
    "        self.hijoIzquierdo = hijoIzquierdo\n",
    "        self.hijoDerecho = hijoDerecho\n",
    "        self.padre = padre\n",
    "        self.bandera = True\n",
    "        self.balotas = []\n",
    "        \n",
    "    #Retornar el nodo del hijo izquierdo [None cuando no tiene hijo]\n",
    "    def ObtenerHijoIzquierdo(self):\n",
    "        return self.hijoIzquierdo\n",
    "        \n",
    "    #Asignar el nodo del hijo izquierdo\n",
    "    def PonerHijoIzquierdo(self, hijo):\n",
    "        self.hijoIzquierdo = hijo\n",
    "    \n",
    "    #Retornar el nodo del hijo derecho [None cuando no tiene hijo]\n",
    "    def ObtenerHijoDerecho(self):\n",
    "        return self.hijoDerecho\n",
    "        \n",
    "    #Asignar el nodo del hijo derecho\n",
    "    def PonerHijoDerecho(self, hijo):\n",
    "        self.hijoDerecho = hijo\n",
    "    \n",
    "    #Validar sí el nodo es raíz\n",
    "    def EsNodoRaiz(self):\n",
    "        return not self.padre\n",
    "    \n",
    "    #Validar sí el nodo es hoja\n",
    "    def EsNodoHoja(self):\n",
    "        return not (self.hijoIzquierdo or self.hijoDerecho)\n",
    "    \n",
    "    #obtener el nivel del nodo\n",
    "    def ObtenerNivel(self):\n",
    "        return self.nivel\n",
    "    \n",
    "    \n",
    "    "
   ]
  },
  {
   "cell_type": "markdown",
   "metadata": {},
   "source": [
    "## Clase ArbolBinario\n",
    "La clase ArbolBinario hace uso de los nodos para construir su estructura y realizar las funciones propias del árbol."
   ]
  },
  {
   "cell_type": "code",
   "execution_count": 58,
   "metadata": {},
   "outputs": [],
   "source": [
    "class ArbolBinario:\n",
    "    #Constructor ([listaNodosIniciales], [raiz])\n",
    "    def __init__(self):\n",
    "        self.raiz = None\n",
    "        self.peso = 0\n",
    "        self.altura = 0\n",
    "        \n",
    "    def ObtenerPeso(self):\n",
    "        return self.peso\n",
    "    \n",
    "    def AgregarNodo(self, llave, valor):\n",
    "        if self.raiz:\n",
    "            #agregar nodo nuevo al árbol\n",
    "            self._AgregarNodo(llave, valor, self.raiz)\n",
    "        else:\n",
    "            # agregar el nuevo nodo como raíz\n",
    "            self.raiz = Nodo(llave, valor, 1)\n",
    "            self.peso += 1\n",
    "            print(\"El nodo \", llave, \" se ha agregado como raíz en el nivel.\", self.raiz.ObtenerNivel())\n",
    "    \n",
    "    def _AgregarNodo(self, llave, valor, nodo):\n",
    "        #verificar sí es menor o mayor para ir por la izq o derecha respectivamente\n",
    "        if(valor < nodo.valor):\n",
    "            if(nodo.ObtenerHijoIzquierdo()): #verifica si tiene hijo izq\n",
    "                # se llama recursivamente al hijo implicado\n",
    "                self._AgregarNodo(llave, valor, nodo.ObtenerHijoIzquierdo())\n",
    "            else:\n",
    "                # se crea un nuevo nodo y se asigna como hijo\n",
    "                nuevoNodo = Nodo(llave, valor, nodo.ObtenerNivel() + 1, nodo)\n",
    "                nodo.PonerHijoIzquierdo(nuevoNodo)\n",
    "                self.peso += 1\n",
    "                if(self.altura < nuevoNodo.ObtenerNivel()):\n",
    "                    self.altura = nuevoNodo.ObtenerNivel()\n",
    "                print(\"Se ha agregado como hijo izquierdo de \", nodo.llave, \" a \", nuevoNodo.llave, \" en el nivel\", nuevoNodo.ObtenerNivel())\n",
    "        else:\n",
    "            if(valor > nodo.valor):\n",
    "                if(nodo.ObtenerHijoDerecho()): # verifica si tiene hijo derecho\n",
    "                    # se llama recursivamente al hijo implicado\n",
    "                    self._AgregarNodo(llave, valor, nodo.ObtenerHijoDerecho())\n",
    "                else:\n",
    "                    # se crea un nuevo nodo y se asigna como hijo\n",
    "                    nuevoNodo = Nodo(llave, valor, nodo.ObtenerNivel() + 1, nodo)\n",
    "                    nodo.PonerHijoDerecho(nuevoNodo)\n",
    "                    self.peso += 1\n",
    "                    if(self.altura < nuevoNodo.ObtenerNivel()):\n",
    "                        self.altura = nuevoNodo.ObtenerNivel()\n",
    "                    print(\"Se ha agregado como hijo derecho de \", nodo.llave, \" a \", nuevoNodo.llave, \" en el nivel\", nuevoNodo.ObtenerNivel())\n",
    "    \n",
    "    #Pre-order (R-I-D)\n",
    "    def imprimir_pre_order(self, nodo):\n",
    "        if(nodo):\n",
    "            print(nodo.valor)\n",
    "            self.imprimir_pre_order(nodo.ObtenerHijoIzquierdo())\n",
    "            self.imprimir_pre_order(nodo.ObtenerHijoDerecho())\n",
    "            \n",
    "    #In-order (I-R-D)\n",
    "    def imprimir_in_order(self, nodo):\n",
    "        if(nodo):\n",
    "            self.imprimir_in_order(nodo.ObtenerHijoIzquierdo())\n",
    "            print(nodo.valor)\n",
    "            self.imprimir_in_order(nodo.ObtenerHijoDerecho())\n",
    "            \n",
    "    #Post-order (I-D-R)\n",
    "    def imprimir_post_order(self, nodo):\n",
    "        if(nodo):\n",
    "            self.imprimir_post_order(nodo.ObtenerHijoIzquierdo())\n",
    "            self.imprimir_post_order(nodo.ObtenerHijoDerecho())\n",
    "            print(nodo.valor)\n",
    "    \n",
    "       \n",
    "    #Recorrido en Amplitud\n",
    "    def imprimir_amplitud(self, nodo):\n",
    "        if(nodo):\n",
    "            cola = [nodo]\n",
    "            recorrido = []\n",
    "            while(len(cola) > 0):\n",
    "                nodoActual = cola.pop(0)\n",
    "                recorrido.append(nodoActual.valor)                \n",
    "                hijoIzq = nodoActual.ObtenerHijoIzquierdo()\n",
    "                hijoDer = nodoActual.ObtenerHijoDerecho()\n",
    "                if(hijoIzq):\n",
    "                    cola.append(hijoIzq)\n",
    "                if(hijoDer):\n",
    "                    cola.append(hijoDer)\n",
    "            print(\"El recorrido en amplitud es:\")\n",
    "            print(recorrido)\n",
    "        else:\n",
    "            print(\"El árbol está vacío.\")\n",
    "            \n",
    "    #Verifica que un árbol sea impar\n",
    "    def EsArbolImpar(self, nodo):\n",
    "        if(nodo):\n",
    "            cola = [nodo]\n",
    "            valores = [0 for i in range(self.altura)]\n",
    "            while(len(cola) > 0):\n",
    "                nodoActual = cola.pop(0)\n",
    "                \n",
    "                valores[nodoActual.ObtenerNivel() - 1] += nodoActual.valor\n",
    "                \n",
    "                hijoIzq = nodoActual.ObtenerHijoIzquierdo()\n",
    "                hijoDer = nodoActual.ObtenerHijoDerecho()\n",
    "                if(hijoIzq):\n",
    "                    cola.append(hijoIzq)\n",
    "                if(hijoDer):\n",
    "                    cola.append(hijoDer)\n",
    "            print(\"Los Valores por niveles son:\")\n",
    "            print(valores)\n",
    "            esImpar = True\n",
    "            for v in valores:\n",
    "                if(v % 2 == 0):\n",
    "                    esImpar = False\n",
    "                    break;\n",
    "            if(esImpar):\n",
    "                print(\"El árbol es impar\")\n",
    "            else:\n",
    "                print(\"El árbol NO es impar\")\n",
    "        else:\n",
    "            print(\"El árbol está vacío.\")\n",
    "    \n",
    "    def buscarNodoPorValor(self, busqueda):\n",
    "        if self.raiz:\n",
    "            #iniciar búsqueda\n",
    "            return self._buscarNodoPorValor(busqueda, self.raiz)\n",
    "        else:\n",
    "            print(\"El árbol está vacio y no se puede buscar.\")\n",
    "            return None\n",
    "    \n",
    "    def _buscarNodoPorValor(self, busqueda, nodo):\n",
    "        if not nodo:\n",
    "            return None\n",
    "        if(busqueda == nodo.valor):\n",
    "            return nodo\n",
    "        else:\n",
    "            if(busqueda < nodo.valor):\n",
    "                return self._buscarNodoPorValor(busqueda, nodo.ObtenerHijoIzquierdo())\n",
    "            else:\n",
    "                return self._buscarNodoPorValor(busqueda, nodo.ObtenerHijoDerecho())\n",
    "            \n",
    "    def buscarNodoPorLlave(self, busqueda):\n",
    "        if self.raiz:\n",
    "            #iniciar búsqueda\n",
    "            return self._buscarNodoPorLlave(busqueda, self.raiz)\n",
    "        else:\n",
    "            print(\"El árbol está vacio y no se puede buscar.\")\n",
    "            return None\n",
    "        \n",
    "    def _buscarNodoPorLlave(self, busqueda, nodo):\n",
    "        if(nodo):\n",
    "            if(nodo.llave.upper() == busqueda.upper()):\n",
    "                print(\"Si se encuentra la llave \", busqueda, \" en el nodo con valor \", nodo.valor)\n",
    "                return nodo\n",
    "            return self._buscarNodoPorLlave(busqueda, nodo.ObtenerHijoIzquierdo()) or self._buscarNodoPorLlave(busqueda, nodo.ObtenerHijoDerecho())\n",
    "        \n",
    "    def AgregarBalota(self, nodo, balota):\n",
    "        if(not nodo):\n",
    "            print(\"Árbol vacío\")\n",
    "        else:\n",
    "            if(self.peso < (2**self.altura - 1)):\n",
    "                print(\"No es un árbol válido para ejecutar este ejercicio.\")\n",
    "            else:\n",
    "                self._agregarBalota(nodo, balota)\n",
    "    \n",
    "    def _agregarBalota(self, nodo, balota):\n",
    "        if(nodo.EsNodoHoja()):\n",
    "            nodo.balotas.append(balota)\n",
    "            print(\"La balota: \", balota, \" quedó en el nodo \", nodo.valor)\n",
    "        else:\n",
    "            nodo.balotas.append(balota)\n",
    "            if(nodo.bandera):\n",
    "                nodo.bandera = False\n",
    "                self._agregarBalota(nodo.ObtenerHijoDerecho(), balota)\n",
    "            else:\n",
    "                nodo.bandera = True\n",
    "                self._agregarBalota(nodo.ObtenerHijoIzquierdo(), balota)\n",
    "\n",
    "    def TodasLasHojasTienenBalotas(self, nodo):\n",
    "        if(nodo):\n",
    "            if(nodo.EsNodoHoja()):\n",
    "                return len(nodo.balotas) > 0\n",
    "            else:\n",
    "                return self.TodasLasHojasTienenBalotas(nodo.ObtenerHijoIzquierdo()) and self.TodasLasHojasTienenBalotas(nodo.ObtenerHijoDerecho())\n",
    "            \n",
    "            \n",
    "            \n",
    "    def HojasConSusBalotas(self, nodo):\n",
    "        if(nodo):\n",
    "            if(nodo.EsNodoHoja()):\n",
    "                print(\"------------------------------------------------\")\n",
    "                print(\"La hoja \", nodo.valor, \" contiene las balotas:\")\n",
    "                print(nodo.balotas)\n",
    "                print(\"------------------------------------------------\")\n",
    "            else:\n",
    "                self.HojasConSusBalotas(nodo.ObtenerHijoIzquierdo()) \n",
    "                self.HojasConSusBalotas(nodo.ObtenerHijoDerecho())\n",
    "                \n",
    "                \n",
    "    def NodosConSusBalotas(self, nodo):\n",
    "        if(nodo):\n",
    "            if(not nodo.EsNodoHoja()):\n",
    "                print(\"------------------------------------------------\")\n",
    "                print(\"Por el nodo \", nodo.valor, \" pasaron las balotas:\")\n",
    "                print(nodo.balotas)\n",
    "                print(\"------------------------------------------------\")\n",
    "                self.NodosConSusBalotas(nodo.ObtenerHijoIzquierdo()) \n",
    "                self.NodosConSusBalotas(nodo.ObtenerHijoDerecho())\n",
    "                \n",
    "    #Mostrar peso del árbol por niveles y el total del árbol\n",
    "    def PesoPorNiveles(self, nodo):\n",
    "        if(nodo):\n",
    "            cola = [nodo]\n",
    "            pesosPorNivel = [0 for i in range(self.altura)]\n",
    "            while(len(cola) > 0):\n",
    "                nodoActual = cola.pop(0)\n",
    "                pesosPorNivel[nodoActual.ObtenerNivel() - 1] += 1\n",
    "                hijoIzq = nodoActual.ObtenerHijoIzquierdo()\n",
    "                hijoDer = nodoActual.ObtenerHijoDerecho()\n",
    "                if(hijoIzq):\n",
    "                    cola.append(hijoIzq)\n",
    "                if(hijoDer):\n",
    "                    cola.append(hijoDer)\n",
    "            return pesosPorNivel\n",
    "        else:\n",
    "            return None\n",
    "    "
   ]
  },
  {
   "cell_type": "markdown",
   "metadata": {},
   "source": [
    "### Construcción e inserción en un árbol binario de búsqueda\n",
    "Se agregan nodos y las clases hacen su trabajo"
   ]
  },
  {
   "cell_type": "code",
   "execution_count": 59,
   "metadata": {},
   "outputs": [
    {
     "name": "stdout",
     "output_type": "stream",
     "text": [
      "El nodo  67  se ha agregado como raíz en el nivel. 1\n",
      "Se ha agregado como hijo izquierdo de  67  a  23  en el nivel 2\n",
      "Se ha agregado como hijo izquierdo de  23  a  11  en el nivel 3\n",
      "Se ha agregado como hijo derecho de  23  a  45  en el nivel 3\n",
      "Se ha agregado como hijo izquierdo de  11  a  4  en el nivel 4\n",
      "Se ha agregado como hijo derecho de  11  a  17  en el nivel 4\n",
      "Se ha agregado como hijo izquierdo de  45  a  34  en el nivel 4\n",
      "Se ha agregado como hijo derecho de  45  a  58  en el nivel 4\n",
      "Se ha agregado como hijo derecho de  67  a  100  en el nivel 2\n",
      "Se ha agregado como hijo izquierdo de  100  a  82  en el nivel 3\n",
      "Se ha agregado como hijo derecho de  100  a  123  en el nivel 3\n",
      "Se ha agregado como hijo izquierdo de  82  a  71  en el nivel 4\n",
      "Se ha agregado como hijo derecho de  82  a  93  en el nivel 4\n",
      "Se ha agregado como hijo izquierdo de  123  a  111  en el nivel 4\n",
      "Se ha agregado como hijo derecho de  123  a  157  en el nivel 4\n"
     ]
    }
   ],
   "source": [
    "abb = ArbolBinario()\n",
    "abb.AgregarNodo(\"67\", 67)\n",
    "abb.AgregarNodo(\"23\", 23)\n",
    "abb.AgregarNodo(\"11\", 11)\n",
    "abb.AgregarNodo(\"45\", 45)\n",
    "abb.AgregarNodo(\"4\", 4)\n",
    "abb.AgregarNodo(\"17\", 17)\n",
    "abb.AgregarNodo(\"34\", 34)\n",
    "abb.AgregarNodo(\"58\", 58)\n",
    "abb.AgregarNodo(\"100\", 100)\n",
    "abb.AgregarNodo(\"82\", 82)\n",
    "abb.AgregarNodo(\"123\", 123)\n",
    "abb.AgregarNodo(\"71\", 71)\n",
    "abb.AgregarNodo(\"93\", 93)\n",
    "abb.AgregarNodo(\"111\", 111)\n",
    "abb.AgregarNodo(\"157\", 157)"
   ]
  },
  {
   "cell_type": "markdown",
   "metadata": {},
   "source": [
    "### Recorridos en Profundidad\n",
    "\n",
    "pre-order, in-order y post-order"
   ]
  },
  {
   "cell_type": "code",
   "execution_count": 60,
   "metadata": {},
   "outputs": [
    {
     "name": "stdout",
     "output_type": "stream",
     "text": [
      "67\n",
      "23\n",
      "11\n",
      "4\n",
      "17\n",
      "45\n",
      "34\n",
      "58\n",
      "100\n",
      "82\n",
      "71\n",
      "93\n",
      "123\n",
      "111\n",
      "157\n"
     ]
    }
   ],
   "source": [
    "# in-order\n",
    "abb.imprimir_pre_order(abb.raiz)\n"
   ]
  },
  {
   "cell_type": "code",
   "execution_count": 61,
   "metadata": {},
   "outputs": [
    {
     "name": "stdout",
     "output_type": "stream",
     "text": [
      "4\n",
      "11\n",
      "17\n",
      "23\n",
      "34\n",
      "45\n",
      "58\n",
      "67\n",
      "71\n",
      "82\n",
      "93\n",
      "100\n",
      "111\n",
      "123\n",
      "157\n"
     ]
    }
   ],
   "source": [
    "# in-order\n",
    "abb.imprimir_in_order(abb.raiz)"
   ]
  },
  {
   "cell_type": "code",
   "execution_count": 62,
   "metadata": {},
   "outputs": [
    {
     "name": "stdout",
     "output_type": "stream",
     "text": [
      "4\n",
      "17\n",
      "11\n",
      "34\n",
      "58\n",
      "45\n",
      "23\n",
      "71\n",
      "93\n",
      "82\n",
      "111\n",
      "157\n",
      "123\n",
      "100\n",
      "67\n"
     ]
    }
   ],
   "source": [
    "# post-order\n",
    "abb.imprimir_post_order(abb.raiz)"
   ]
  },
  {
   "cell_type": "code",
   "execution_count": 63,
   "metadata": {},
   "outputs": [
    {
     "name": "stdout",
     "output_type": "stream",
     "text": [
      "El nodo con valor  58  si se encuentra y está con la llave de acceso  58  y su padre es:  45\n"
     ]
    }
   ],
   "source": [
    "busqueda = 58\n",
    "resultado = abb.buscarNodoPorValor(busqueda)\n",
    "if(resultado):\n",
    "    print(\"El nodo con valor \", busqueda, \" si se encuentra y está con la llave de acceso \", resultado.llave, \" y su padre es: \", resultado.padre.llave)\n",
    "else:\n",
    "    print(\"El valor \", busqueda, \" no se encuentra en el árbol.\")"
   ]
  },
  {
   "cell_type": "code",
   "execution_count": 65,
   "metadata": {
    "scrolled": true
   },
   "outputs": [
    {
     "name": "stdout",
     "output_type": "stream",
     "text": [
      "Si se encuentra la llave  58  en el nodo con valor  58\n",
      "El nodo con llave  58  si se encuentra y está con el valor  58  y su padre es:  45\n"
     ]
    }
   ],
   "source": [
    "busqueda = \"58\"\n",
    "resultado = abb.buscarNodoPorLlave(busqueda)\n",
    "if(resultado):\n",
    "    print(\"El nodo con llave \", busqueda, \" si se encuentra y está con el valor \", resultado.valor, \" y su padre es: \", resultado.padre.llave)\n",
    "else:\n",
    "    print(\"El valor \", busqueda, \" no se encuentra en el árbol.\")"
   ]
  },
  {
   "cell_type": "code",
   "execution_count": 49,
   "metadata": {},
   "outputs": [
    {
     "name": "stdout",
     "output_type": "stream",
     "text": [
      "[1, 2, 3, 4, 5]\n",
      "1\n",
      "[2, 3, 4, 5]\n"
     ]
    }
   ],
   "source": [
    "# Ejemplo de colas en python\n",
    "colaPrueba = [1,2,3,4,5]\n",
    "print(colaPrueba)\n",
    "primero = colaPrueba.pop(0)\n",
    "print(primero)\n",
    "print(colaPrueba)"
   ]
  },
  {
   "cell_type": "code",
   "execution_count": 50,
   "metadata": {},
   "outputs": [
    {
     "name": "stdout",
     "output_type": "stream",
     "text": [
      "El recorrido en amplitud es:\n",
      "[67, 23, 100, 11, 45, 82, 123, 4, 17, 34, 58, 71, 93, 111, 157]\n"
     ]
    }
   ],
   "source": [
    "# Recorrido en Amplitud\n",
    "abb.imprimir_amplitud(abb.raiz)"
   ]
  },
  {
   "cell_type": "code",
   "execution_count": 51,
   "metadata": {},
   "outputs": [
    {
     "name": "stdout",
     "output_type": "stream",
     "text": [
      "[0, 5, 0, 0]\n"
     ]
    }
   ],
   "source": [
    "lista = [0, 0, 0, 0]\n",
    "lista [1] +=  5\n",
    "print(lista)"
   ]
  },
  {
   "cell_type": "code",
   "execution_count": 52,
   "metadata": {},
   "outputs": [
    {
     "name": "stdout",
     "output_type": "stream",
     "text": [
      "Los Valores por niveles son:\n",
      "[67, 123, 261, 545]\n",
      "El árbol es impar\n"
     ]
    }
   ],
   "source": [
    "abb.EsArbolImpar(abb.raiz)"
   ]
  },
  {
   "cell_type": "code",
   "execution_count": 53,
   "metadata": {},
   "outputs": [
    {
     "name": "stdout",
     "output_type": "stream",
     "text": [
      "La balota:  1  quedó en el nodo  157\n",
      "La balota:  5  quedó en el nodo  58\n",
      "La balota:  7  quedó en el nodo  93\n",
      "La balota:  10  quedó en el nodo  17\n",
      "La balota:  13  quedó en el nodo  111\n",
      "La balota:  15  quedó en el nodo  34\n",
      "La balota:  12  quedó en el nodo  71\n",
      "La balota:  34  quedó en el nodo  4\n",
      "La balota:  56  quedó en el nodo  157\n",
      "La balota:  17  quedó en el nodo  58\n",
      "La balota:  100  quedó en el nodo  93\n",
      "La balota:  18  quedó en el nodo  17\n",
      "La balota:  25  quedó en el nodo  111\n",
      "La balota:  34  quedó en el nodo  34\n",
      "La balota:  89  quedó en el nodo  71\n",
      "La balota:  76  quedó en el nodo  4\n",
      "La balota:  43  quedó en el nodo  157\n",
      "La balota:  52  quedó en el nodo  58\n"
     ]
    }
   ],
   "source": [
    "listaBalotas = [1, 5, 7, 10, 13, 15, 12, 34, 56, 17, 100, 18, 25, 34, 89, 76, 43, 52]\n",
    "for balota in listaBalotas:\n",
    "    abb.AgregarBalota(abb.raiz, balota)"
   ]
  },
  {
   "cell_type": "code",
   "execution_count": 54,
   "metadata": {},
   "outputs": [
    {
     "name": "stdout",
     "output_type": "stream",
     "text": [
      "Todas las hojas tienen balotas\n"
     ]
    }
   ],
   "source": [
    "# Todas las hojas tiene balotas?\n",
    "if(abb.TodasLasHojasTienenBalotas(abb.raiz)):\n",
    "    print(\"Todas las hojas tienen balotas\")\n",
    "else:\n",
    "    print(\"NO todas las hojas tienen balotas\")"
   ]
  },
  {
   "cell_type": "code",
   "execution_count": 55,
   "metadata": {},
   "outputs": [
    {
     "name": "stdout",
     "output_type": "stream",
     "text": [
      "------------------------------------------------\n",
      "La hoja  4  contiene las balotas:\n",
      "[34, 76]\n",
      "------------------------------------------------\n",
      "------------------------------------------------\n",
      "La hoja  17  contiene las balotas:\n",
      "[10, 18]\n",
      "------------------------------------------------\n",
      "------------------------------------------------\n",
      "La hoja  34  contiene las balotas:\n",
      "[15, 34]\n",
      "------------------------------------------------\n",
      "------------------------------------------------\n",
      "La hoja  58  contiene las balotas:\n",
      "[5, 17, 52]\n",
      "------------------------------------------------\n",
      "------------------------------------------------\n",
      "La hoja  71  contiene las balotas:\n",
      "[12, 89]\n",
      "------------------------------------------------\n",
      "------------------------------------------------\n",
      "La hoja  93  contiene las balotas:\n",
      "[7, 100]\n",
      "------------------------------------------------\n",
      "------------------------------------------------\n",
      "La hoja  111  contiene las balotas:\n",
      "[13, 25]\n",
      "------------------------------------------------\n",
      "------------------------------------------------\n",
      "La hoja  157  contiene las balotas:\n",
      "[1, 56, 43]\n",
      "------------------------------------------------\n"
     ]
    }
   ],
   "source": [
    "# Todas las hojas tiene balotas?\n",
    "abb.HojasConSusBalotas(abb.raiz)"
   ]
  },
  {
   "cell_type": "code",
   "execution_count": 56,
   "metadata": {},
   "outputs": [
    {
     "name": "stdout",
     "output_type": "stream",
     "text": [
      "------------------------------------------------\n",
      "Por el nodo  67  pasaron las balotas:\n",
      "[1, 5, 7, 10, 13, 15, 12, 34, 56, 17, 100, 18, 25, 34, 89, 76, 43, 52]\n",
      "------------------------------------------------\n",
      "------------------------------------------------\n",
      "Por el nodo  23  pasaron las balotas:\n",
      "[5, 10, 15, 34, 17, 18, 34, 76, 52]\n",
      "------------------------------------------------\n",
      "------------------------------------------------\n",
      "Por el nodo  11  pasaron las balotas:\n",
      "[10, 34, 18, 76]\n",
      "------------------------------------------------\n",
      "------------------------------------------------\n",
      "Por el nodo  45  pasaron las balotas:\n",
      "[5, 15, 17, 34, 52]\n",
      "------------------------------------------------\n",
      "------------------------------------------------\n",
      "Por el nodo  100  pasaron las balotas:\n",
      "[1, 7, 13, 12, 56, 100, 25, 89, 43]\n",
      "------------------------------------------------\n",
      "------------------------------------------------\n",
      "Por el nodo  82  pasaron las balotas:\n",
      "[7, 12, 100, 89]\n",
      "------------------------------------------------\n",
      "------------------------------------------------\n",
      "Por el nodo  123  pasaron las balotas:\n",
      "[1, 13, 56, 25, 43]\n",
      "------------------------------------------------\n"
     ]
    }
   ],
   "source": [
    "#Nodos con sus balotas\n",
    "abb.NodosConSusBalotas(abb.raiz)"
   ]
  },
  {
   "cell_type": "code",
   "execution_count": 57,
   "metadata": {},
   "outputs": [
    {
     "name": "stdout",
     "output_type": "stream",
     "text": [
      "Los pesos por niveles son:\n",
      "[1, 2, 4, 8]\n",
      "------------------------\n",
      "El peso del nivel  1  es  1\n",
      "------------------------\n",
      "El peso del nivel  2  es  2\n",
      "------------------------\n",
      "El peso del nivel  3  es  4\n",
      "------------------------\n",
      "El peso del nivel  4  es  8\n",
      "------------------------\n"
     ]
    }
   ],
   "source": [
    "#Peso del árbol por niveles\n",
    "listaPesos = abb.PesoPorNiveles(abb.raiz)\n",
    "if(listaPesos):\n",
    "    print(\"Los pesos por niveles son:\")\n",
    "    print(listaPesos)\n",
    "    print(\"------------------------\")\n",
    "    nivel = 1\n",
    "    for p in listaPesos:\n",
    "        print(\"El peso del nivel \", nivel, \" es \", p)\n",
    "        nivel += 1\n",
    "        print(\"------------------------\")"
   ]
  },
  {
   "cell_type": "code",
   "execution_count": null,
   "metadata": {},
   "outputs": [],
   "source": []
  }
 ],
 "metadata": {
  "kernelspec": {
   "display_name": "Python 3",
   "language": "python",
   "name": "python3"
  },
  "language_info": {
   "codemirror_mode": {
    "name": "ipython",
    "version": 3
   },
   "file_extension": ".py",
   "mimetype": "text/x-python",
   "name": "python",
   "nbconvert_exporter": "python",
   "pygments_lexer": "ipython3",
   "version": "3.8.5"
  }
 },
 "nbformat": 4,
 "nbformat_minor": 4
}
