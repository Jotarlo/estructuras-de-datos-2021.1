{
 "cells": [
  {
   "cell_type": "code",
   "execution_count": 1,
   "metadata": {},
   "outputs": [
    {
     "name": "stdout",
     "output_type": "stream",
     "text": [
      "{'1': 'Uno', '2': 'dos', '3': 'Tres', 'cuatro': 4}\n"
     ]
    }
   ],
   "source": [
    "dic = {\"1\": \"Uno\", \"2\": \"dos\", \"3\": \"Tres\", \"cuatro\": 4}\n",
    "print(dic)\n"
   ]
  },
  {
   "cell_type": "code",
   "execution_count": 2,
   "metadata": {},
   "outputs": [
    {
     "name": "stdout",
     "output_type": "stream",
     "text": [
      "{'1': 'Uno', '2': 'dos', '3': 'Tres', 'cuatro': 4, 'cinco': 5}\n"
     ]
    }
   ],
   "source": [
    "dic[\"cinco\"]=5\n",
    "print(dic)"
   ]
  },
  {
   "cell_type": "code",
   "execution_count": 3,
   "metadata": {},
   "outputs": [],
   "source": [
    "dic[\"cinco\"]=\"five\""
   ]
  },
  {
   "cell_type": "code",
   "execution_count": 4,
   "metadata": {},
   "outputs": [
    {
     "name": "stdout",
     "output_type": "stream",
     "text": [
      "{'1': 'Uno', '2': 'dos', '3': 'Tres', 'cuatro': 4, 'cinco': 'five'}\n"
     ]
    }
   ],
   "source": [
    "print(dic)"
   ]
  },
  {
   "cell_type": "code",
   "execution_count": 5,
   "metadata": {},
   "outputs": [],
   "source": [
    "removed = dic.pop(\"cinco\")"
   ]
  },
  {
   "cell_type": "code",
   "execution_count": 6,
   "metadata": {},
   "outputs": [
    {
     "name": "stdout",
     "output_type": "stream",
     "text": [
      "five\n"
     ]
    }
   ],
   "source": [
    "print(removed)"
   ]
  },
  {
   "cell_type": "code",
   "execution_count": 7,
   "metadata": {},
   "outputs": [
    {
     "name": "stdout",
     "output_type": "stream",
     "text": [
      "{'1': 'Uno', '2': 'dos', '3': 'Tres', 'cuatro': 4}\n"
     ]
    }
   ],
   "source": [
    "print(dic)"
   ]
  },
  {
   "cell_type": "code",
   "execution_count": 9,
   "metadata": {},
   "outputs": [
    {
     "name": "stdout",
     "output_type": "stream",
     "text": [
      "dict_keys(['1', '2', '3', 'cuatro'])\n",
      "dict_values(['Uno', 'dos', 'Tres', 4])\n"
     ]
    }
   ],
   "source": [
    "print(dic.keys())\n",
    "print(dic.values())"
   ]
  },
  {
   "cell_type": "code",
   "execution_count": 10,
   "metadata": {},
   "outputs": [
    {
     "name": "stdout",
     "output_type": "stream",
     "text": [
      "La llave  1  tiene el valor  Uno\n",
      "La llave  2  tiene el valor  dos\n",
      "La llave  3  tiene el valor  Tres\n",
      "La llave  cuatro  tiene el valor  4\n"
     ]
    }
   ],
   "source": [
    "for k, v in dic.items():\n",
    "    print(\"La llave \", k, \" tiene el valor \", v)"
   ]
  },
  {
   "cell_type": "code",
   "execution_count": 11,
   "metadata": {},
   "outputs": [
    {
     "name": "stdout",
     "output_type": "stream",
     "text": [
      "{'1': 'Uno', '2': 'dos', '3': 'Tres'}\n"
     ]
    }
   ],
   "source": [
    "dic.pop(\"cuatro\")\n",
    "print(dic)"
   ]
  },
  {
   "cell_type": "code",
   "execution_count": 12,
   "metadata": {},
   "outputs": [],
   "source": [
    "dic.clear()"
   ]
  },
  {
   "cell_type": "code",
   "execution_count": 13,
   "metadata": {},
   "outputs": [
    {
     "name": "stdout",
     "output_type": "stream",
     "text": [
      "{}\n"
     ]
    }
   ],
   "source": [
    "print(dic)"
   ]
  },
  {
   "cell_type": "code",
   "execution_count": 14,
   "metadata": {},
   "outputs": [],
   "source": [
    "dic = {\"uno\": 1, \"dos\": 2, \"tres\":3, \"cuatro\": 4}"
   ]
  },
  {
   "cell_type": "code",
   "execution_count": 15,
   "metadata": {},
   "outputs": [
    {
     "name": "stdout",
     "output_type": "stream",
     "text": [
      "La sumatoria de valores es:  10\n"
     ]
    }
   ],
   "source": [
    "suma = 0\n",
    "for k, v in dic.items():\n",
    "    suma = suma + v\n",
    "    \n",
    "print(\"La sumatoria de valores es: \", suma)"
   ]
  },
  {
   "cell_type": "code",
   "execution_count": 16,
   "metadata": {},
   "outputs": [
    {
     "name": "stdout",
     "output_type": "stream",
     "text": [
      "El promedio de valores en el diccionario es:  2.5\n"
     ]
    }
   ],
   "source": [
    "promedio = suma / len(dic)\n",
    "print(\"El promedio de valores en el diccionario es: \" , promedio)"
   ]
  },
  {
   "cell_type": "code",
   "execution_count": 17,
   "metadata": {},
   "outputs": [],
   "source": [
    "dic[\"lista\"]=[1, 2, 3, 4, 5, 6, 7, 8, 9]"
   ]
  },
  {
   "cell_type": "code",
   "execution_count": 18,
   "metadata": {},
   "outputs": [
    {
     "name": "stdout",
     "output_type": "stream",
     "text": [
      "{'uno': 1, 'dos': 2, 'tres': 3, 'cuatro': 4, 'lista': [1, 2, 3, 4, 5, 6, 7, 8, 9]}\n"
     ]
    }
   ],
   "source": [
    "print(dic)"
   ]
  },
  {
   "cell_type": "code",
   "execution_count": 19,
   "metadata": {},
   "outputs": [],
   "source": [
    "dic[\"camilo\"]=4"
   ]
  },
  {
   "cell_type": "code",
   "execution_count": 20,
   "metadata": {},
   "outputs": [
    {
     "name": "stdout",
     "output_type": "stream",
     "text": [
      "{'uno': 1, 'dos': 2, 'tres': 3, 'cuatro': 4, 'lista': [1, 2, 3, 4, 5, 6, 7, 8, 9], 'camilo': 4}\n"
     ]
    }
   ],
   "source": [
    "print(dic)"
   ]
  },
  {
   "cell_type": "code",
   "execution_count": 21,
   "metadata": {},
   "outputs": [],
   "source": [
    "dic[\"camilo\"] = 6"
   ]
  },
  {
   "cell_type": "code",
   "execution_count": 22,
   "metadata": {},
   "outputs": [
    {
     "name": "stdout",
     "output_type": "stream",
     "text": [
      "{'uno': 1, 'dos': 2, 'tres': 3, 'cuatro': 4, 'lista': [1, 2, 3, 4, 5, 6, 7, 8, 9], 'camilo': 6}\n"
     ]
    }
   ],
   "source": [
    "print(dic)"
   ]
  },
  {
   "cell_type": "code",
   "execution_count": 24,
   "metadata": {},
   "outputs": [
    {
     "name": "stdout",
     "output_type": "stream",
     "text": [
      "Ingrese el nuevo número: 89\n",
      "{'uno': 1, 'dos': 2, 'tres': 3, 'cuatro': 4, 'lista': [1, 2, 3, 4, 5, 6, 7, 8, 9], 'camilo': [6, 89]}\n"
     ]
    }
   ],
   "source": [
    "dic[\"camilo\"] = 6\n",
    "num = int(input(\"Ingrese el nuevo número: \"))\n",
    "if(dic[\"camilo\"]):\n",
    "    actual = dic[\"camilo\"]\n",
    "    dic[\"camilo\"] = [actual, num]\n",
    "    \n",
    "print(dic)"
   ]
  },
  {
   "cell_type": "code",
   "execution_count": null,
   "metadata": {},
   "outputs": [],
   "source": []
  }
 ],
 "metadata": {
  "kernelspec": {
   "display_name": "Python 3",
   "language": "python",
   "name": "python3"
  },
  "language_info": {
   "codemirror_mode": {
    "name": "ipython",
    "version": 3
   },
   "file_extension": ".py",
   "mimetype": "text/x-python",
   "name": "python",
   "nbconvert_exporter": "python",
   "pygments_lexer": "ipython3",
   "version": "3.8.5"
  }
 },
 "nbformat": 4,
 "nbformat_minor": 4
}
